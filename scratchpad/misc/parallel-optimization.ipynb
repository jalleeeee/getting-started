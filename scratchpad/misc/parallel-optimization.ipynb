{
 "cells": [
  {
   "cell_type": "code",
   "execution_count": 5,
   "metadata": {
    "collapsed": false,
    "ExecuteTime": {
     "end_time": "2024-06-12T11:37:02.937246Z",
     "start_time": "2024-06-12T11:37:02.906077Z"
    }
   },
   "outputs": [],
   "source": [
    "%matplotlib inline"
   ]
  },
  {
   "cell_type": "markdown",
   "metadata": {},
   "source": [
    "\n",
    "# Parallel optimization\n",
    "\n",
    "Iaroslav Shcherbatyi, May 2017.\n",
    "Reviewed by Manoj Kumar and Tim Head.\n",
    "Reformatted by Holger Nahrstaedt 2020\n",
    "\n",
    ".. currentmodule:: skopt\n",
    "\n",
    "## Introduction\n",
    "\n",
    "For many practical black box optimization problems expensive objective can be\n",
    "evaluated in parallel at multiple points. This allows to get more objective\n",
    "evaluations per unit of time, which reduces the time necessary to reach good\n",
    "objective values when appropriate optimization algorithms are used, see for\n",
    "example results in [1]_ and the references therein.\n",
    "\n",
    "\n",
    "One such example task is a selection of number and activation function of a\n",
    "neural network which results in highest accuracy for some machine learning\n",
    "problem. For such task, multiple neural networks with different combinations\n",
    "of number of neurons and activation function type can be evaluated at the same\n",
    "time in parallel on different cpu cores / computational nodes.\n",
    "\n",
    "The “ask and tell” API of scikit-optimize exposes functionality that allows to\n",
    "obtain multiple points for evaluation in parallel. Intended usage of this\n",
    "interface is as follows:\n",
    "\n",
    "1. Initialize instance of the `Optimizer` class from skopt\n",
    "2. Obtain n points for evaluation in parallel by calling the `ask` method of an optimizer instance with the `n_points` argument set to n > 0\n",
    "3. Evaluate points\n",
    "4. Provide points and corresponding objectives using the `tell` method of an optimizer instance\n",
    "5. Continue from step 2 until eg maximum number of evaluations reached\n"
   ]
  },
  {
   "cell_type": "code",
   "execution_count": 6,
   "metadata": {
    "collapsed": false,
    "ExecuteTime": {
     "end_time": "2024-06-12T11:37:02.951754Z",
     "start_time": "2024-06-12T11:37:02.924270Z"
    }
   },
   "outputs": [
    {
     "name": "stdout",
     "output_type": "stream",
     "text": [
      "Automatically created module for IPython interactive environment\n"
     ]
    }
   ],
   "source": [
    "print(__doc__)\n",
    "import numpy as np"
   ]
  },
  {
   "cell_type": "markdown",
   "metadata": {},
   "source": [
    "## Example\n",
    "\n",
    "A minimalistic example that uses joblib to parallelize evaluation of the\n",
    "objective function is given below.\n",
    "\n"
   ]
  },
  {
   "cell_type": "code",
   "execution_count": 7,
   "metadata": {
    "collapsed": false,
    "ExecuteTime": {
     "end_time": "2024-06-12T11:37:26.373970Z",
     "start_time": "2024-06-12T11:37:02.937065Z"
    }
   },
   "outputs": [
    {
     "name": "stdout",
     "output_type": "stream",
     "text": [
      "0 [17.117802423039286, 25.636791759237006, 111.24456644018927, 123.94463659127379]\n",
      "1 [29.49805986824328, 97.24532144298679, 60.023920779206286, 102.92404054178502]\n",
      "2 [14.96091221397041, 28.78036409352106, 20.633839118841557, 20.575052605792287]\n",
      "3 [14.09722264762864, 0.8080071983603698, 1.1096687798266363, 13.806444647537244]\n",
      "4 [10.960889035651505, 3.7014456187224267, 2.579922002481686, 145.87219087939556]\n",
      "5 [3.172042507332442, 1.052680573472042, 0.6104812606219916, 5.070242503753302]\n",
      "6 [0.4509363240477491, 6.3122402032549605, 6.482165355661461, 14.468034792645382]\n",
      "7 [0.5398706837572309, 0.5333820659065012, 0.4036137616765956, 5.9878813182720485]\n",
      "8 [0.3991096642728085, 0.3990720379005648, 0.4040407858733257, 0.41119273085857877]\n",
      "9 [0.40692701148785204, 0.39969109092420574, 0.4177576610846483, 0.42987485419604354]\n",
      "0.3990720379005648\n"
     ]
    }
   ],
   "source": [
    "from skopt import Optimizer\n",
    "from skopt.space import Real\n",
    "from joblib import Parallel, delayed\n",
    "# example objective taken from skopt\n",
    "from skopt.benchmarks import branin\n",
    "\n",
    "optimizer = Optimizer(\n",
    "    dimensions=[Real(-5.0, 10.0), Real(0.0, 15.0)],\n",
    "    random_state=1,\n",
    "    base_estimator='gp'\n",
    ")\n",
    "\n",
    "for i in range(10):\n",
    "    x = optimizer.ask(n_points=4)  # x is a list of n_points points\n",
    "    y = Parallel(n_jobs=4)(delayed(branin)(v) for v in x)  # evaluate points in parallel\n",
    "    optimizer.tell(x, y)\n",
    "    print(f\"Round {i+1}\", y)\n",
    "\n",
    "# takes ~ 20 sec to get here\n",
    "print(min(optimizer.yi))  # print the best objective found"
   ]
  },
  {
   "cell_type": "markdown",
   "metadata": {},
   "source": [
    "Note that if `n_points` is set to some integer > 0 for the `ask` method, the\n",
    "result will be a list of points, even for `n_points` = 1. If the argument is\n",
    "set to `None` (default value) then a single point (but not a list of points)\n",
    "will be returned.\n",
    "\n",
    "The default \"minimum constant liar\" [1]_ parallelization strategy is used in\n",
    "the example, which allows to obtain multiple points for evaluation with a\n",
    "single call to the `ask` method with any surrogate or acquisition function.\n",
    "Parallelization strategy can be set using the \"strategy\" argument of `ask`.\n",
    "For supported parallelization strategies see the documentation of\n",
    "scikit-optimize.\n",
    "\n",
    ".. [1] `<https://hal.archives-ouvertes.fr/hal-00732512/document>`_\n"
   ]
  }
 ],
 "metadata": {
  "kernelspec": {
   "display_name": "Python 3",
   "language": "python",
   "name": "python3"
  },
  "language_info": {
   "codemirror_mode": {
    "name": "ipython",
    "version": 3
   },
   "file_extension": ".py",
   "mimetype": "text/x-python",
   "name": "python",
   "nbconvert_exporter": "python",
   "pygments_lexer": "ipython3",
   "version": "3.9.7"
  }
 },
 "nbformat": 4,
 "nbformat_minor": 0
}
